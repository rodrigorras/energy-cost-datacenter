{
 "cells": [
  {
   "cell_type": "markdown",
   "metadata": {},
   "source": [
    "---------------------------------------------------------------------------------------------------------------------------\n",
    "### Turbostat Essentials"
   ]
  },
  {
   "cell_type": "markdown",
   "metadata": {},
   "source": [
    "#### Dependencies \n",
    "```bash\n",
    "sudo apt-get install linux-tools-generic\n",
    "sudo apt-get install linux-tools-4.13.0-25-generic\n",
    "sudo modprobe msr\n",
    "```"
   ]
  },
  {
   "cell_type": "markdown",
   "metadata": {},
   "source": [
    "#### Running Jupyter as root (example)\n",
    "```bash\n",
    "sudo jupyter notebook --NotebookApp.token= --notebook-dir=/home/rodrigo/logfile_collector_embedded_sensors --ip=x.x.x.x --allow-root\n",
    "```"
   ]
  },
  {
   "cell_type": "markdown",
   "metadata": {},
   "source": [
    "**Fined Grained Monitor Tools**\n",
    "\n",
    "Quick Sample how to Collect Energy Data from CPU1, CPU2 and Memories Modules \n",
    "\n"
   ]
  },
  {
   "cell_type": "markdown",
   "metadata": {},
   "source": [
    "**GOAL**\n",
    "* Implement a minimal library to manage energy consumption of CPU, CPU cores (cpu1,cpu3,cpu6)\n",
    "* Test using basic benchmark (stress-ng)"
   ]
  },
  {
   "cell_type": "markdown",
   "metadata": {},
   "source": [
    "### Exemplo\n",
    "```bash\n",
    "run-script.sh 5min -csv > log_asss.csv\n",
    "load (file.log)\n",
    "print\n",
    "plot\n",
    "```\n",
    "\n",
    "### How Data is being Gathered?\n",
    "\n",
    "It's a combination of stress-ng benchmarks + Racadm Dell monitor tools. \n",
    "\n",
    "### Which type of Operations?\n",
    "\n",
    "* CPU floating point operations as well as memory and processor data cache (https://wiki.ubuntu.com/Kernel/Reference/stress-ng)\n",
    "    - We choosed Matrix multiplication \n",
    "\n",
    "* The Logs are going to be collected with sync runs of  Racadm and stress-ng Linux Tool \n",
    "    - Syncronized clocks for better precision \n",
    "\n",
    "### Some orchestration level added\n",
    "\n",
    "Definition of Python Function , detach execution from linux commands "
   ]
  },
  {
   "cell_type": "code",
   "execution_count": 20,
   "metadata": {},
   "outputs": [
    {
     "name": "stdout",
     "output_type": "stream",
     "text": [
      "String montada = sudo nohup stress --cpu 4 --timeout 300s >>stress_logs2018-04-02T16:04:28.log &\n",
      "String montada2 = sudo nohup ./Dispatch_Collector.sh 300 0 >>energy_Collector2018-04-02T16:04:28.log &\n"
     ]
    }
   ],
   "source": [
    "import os\n",
    "from datetime import datetime\n",
    "\n",
    "########################################################################################################\n",
    "#  Last Edited : Rodrigo Rios - 02/04/2018\n",
    "#\n",
    "# Oschestrate_Multiple_CPU_Test_CSV\n",
    "# Description: Osrchestrate CPU tests, by dispatching a energy collector Job and an Application/Benchmarks\n",
    "# Function level: Receives (cpu time,cpu cores,log-level[1,0]) as input and dispatch both Benchmark and Collector and generate output CSV Logs\n",
    "# inputs: \n",
    "# time_delta_second = Time Interval of running collector and running Benchmark Interval.\n",
    "# cpu_cores # of CPU Cores Available\n",
    "# Sample Output Logs Files: stress_logs2018-04-02T10:59:12.log  - \n",
    "#                           energy_Collector2018-04-02T10:59:12.log\n",
    "#\n",
    "#######################################################################################################\n",
    "\n",
    "def Orchestrate_Test_CPU( time_delta_seconds, cpu_cores, fine_grained_bool ):\n",
    "    String_Assembly_Run_Stress = \"sudo nohup stress --cpu \" + str(cpu_cores) + \" --timeout \" + str(time_delta_seconds)  + \"s >>stress_logs\" + datetime.now().isoformat(timespec='seconds') + \".log &\" \n",
    "    String_Assembly_Run_Energy_Collector = \"sudo nohup ./Dispatch_Collector.sh \" + str(time_delta_seconds) + \" \" + str(fine_grained_bool) + \" >>energy_Collector\" + datetime.now().isoformat(timespec='seconds') + \".log &\" \n",
    "    print(\"String montada =\", String_Assembly_Run_Stress)\n",
    "    print(\"String montada2 =\", String_Assembly_Run_Energy_Collector)\n",
    "    os.system(String_Assembly_Run_Energy_Collector)\n",
    "    os.system(String_Assembly_Run_Stress)\n",
    "    \n",
    "   \n",
    "#Run Small Set, 5min, 4 CPU\n",
    "Orchestrate_Test_CPU(300, 4, 0 )\n",
    "\n",
    "#Run Median Set , 5min, 16 CPU\n",
    "#Orchestrate_Test_CPU(300, 16)\n",
    "\n",
    "#Run Big Set\n",
    "#Orchestrate_Test_CPU(300, 32)\n"
   ]
  },
  {
   "cell_type": "code",
   "execution_count": 6,
   "metadata": {},
   "outputs": [],
   "source": [
    "#import os\n",
    "#from datetime import datetime\n",
    "\n",
    "########################################################################################################\n",
    "#  Last Edited : Rodrigo Rios - 02/04/2018\n",
    "#\n",
    "# Oschestrate_Multiple_CPU_Test_CSV\n",
    "# Description: Osrchestrate CPU tests, by dispatching energy collector Job and an Application/Benchmarks\n",
    "# Function level: Receives (cpu time,cpu cores) as input and dispatch both Benchmark and Collector and generate output CSV Logs\n",
    "# inputs: \n",
    "# time_delta_second = Time Interval of running collector and running Benchmark Interval.\n",
    "# cpu_cores # of CPU Cores Available\n",
    "# Sample Output Logs Files: stress_logs2018-04-02T10:59:12.log  - \n",
    "#                           energy_Collector2018-04-02T10:59:12.log\n",
    "# \n",
    "# *Still on the Collector Job ,  getting the Energy Collector will utilize a bash function called: \n",
    "#\n",
    "#\n",
    "#####################################################################################################\n",
    "\n",
    "\n",
    "#def Orchestrate_Test_CPU_CSV ( time_delta_seconds, cpu_cores, fine_graned_time_bool ):\n",
    "#    String_Assembly_Run_Stress = \"sudo nohup stress --cpu \" + str(cpu_cores) + \" --timeout \" + str(time_delta_seconds)  + \"s >>stress_logs\" + datetime.now().isoformat(timespec='seconds') + \".log &\" \n",
    "#    String_Assembly_Run_Energy_Collector = \"sudo nohup ./Dispatch_Collector.sh \" + str(time_delta_seconds) + str(fine_grained_time_bool)\" >>energy_Collector\" + datetime.now().isoformat(timespec='seconds') + \".log &\" \n",
    "#    print(\"String montada =\", String_Assembly_Run_Stress)\n",
    "#    print(\"String montada2 =\", String_Assembly_Run_Energy_Collector)\n",
    "#    os.system(String_Assembly_Run_Energy_Collector)\n",
    "#    os.system(String_Assembly_Run_Stress)"
   ]
  },
  {
   "cell_type": "markdown",
   "metadata": {},
   "source": [
    "#! in this case I am looping into --cpu-method, but I can also loop in #cores active and check comsumption  \n",
    "#!for m in int8 int16 int32 int64; do stress-ng --cpu $n --cpu-method $m -t 10s --metrics-brief; done\n",
    "\n",
    "\n"
   ]
  },
  {
   "cell_type": "code",
   "execution_count": 19,
   "metadata": {},
   "outputs": [
    {
     "name": "stdout",
     "output_type": "stream",
     "text": [
      "./Dispatch_Collector.sh: line 18: [: -eq: unary operator expected\r\n",
      "16:00:36 , 168 W | 573 Btu/hr\r\n",
      "16:00:39 , 168 W | 573 Btu/hr\r\n",
      "16:00:41 , 168 W | 573 Btu/hr\r\n",
      "16:00:43 , 168 W | 573 Btu/hr\r\n",
      "16:00:45 , 168 W | 573 Btu/hr\r\n",
      "16:00:47 , 168 W | 573 Btu/hr\r\n",
      "16:00:49 , 168 W | 573 Btu/hr\r\n",
      "16:00:51 , 168 W | 573 Btu/hr\r\n",
      "16:00:53 , 168 W | 573 Btu/hr\r\n",
      "16:00:55 , 168 W | 573 Btu/hr\r\n",
      "16:00:57 , 168 W | 573 Btu/hr\r\n",
      "16:00:59 , 168 W | 573 Btu/hr\r\n",
      "16:01:01 , 168 W | 573 Btu/hr\r\n",
      "16:01:04 , 168 W | 573 Btu/hr\r\n",
      "16:01:06 , 168 W | 573 Btu/hr\r\n",
      "16:01:08 , 168 W | 573 Btu/hr\r\n",
      "16:01:10 , 168 W | 573 Btu/hr\r\n",
      "16:01:12 , 168 W | 573 Btu/hr\r\n",
      "16:01:14 , 168 W | 573 Btu/hr\r\n",
      "16:01:16 , 168 W | 573 Btu/hr\r\n",
      "16:01:18 , 168 W | 573 Btu/hr\r\n",
      "16:01:20 , 168 W | 573 Btu/hr\r\n",
      "16:01:22 , 168 W | 573 Btu/hr\r\n",
      "16:01:24 , 168 W | 573 Btu/hr\r\n",
      "16:01:27 , 168 W | 573 Btu/hr\r\n",
      "16:01:29 , 168 W | 573 Btu/hr\r\n",
      "16:01:31 , 168 W | 573 Btu/hr\r\n",
      "16:01:33 , 168 W | 573 Btu/hr\r\n",
      "16:01:35 , 168 W | 573 Btu/hr\r\n",
      "16:01:37 , 168 W | 573 Btu/hr\r\n",
      "16:01:39 , 168 W | 573 Btu/hr\r\n",
      "16:01:41 , 168 W | 573 Btu/hr\r\n",
      "16:01:43 , 168 W | 573 Btu/hr\r\n",
      "16:01:45 , 168 W | 573 Btu/hr\r\n",
      "16:01:47 , 168 W | 573 Btu/hr\r\n",
      "16:01:49 , 168 W | 573 Btu/hr\r\n",
      "16:01:51 , 168 W | 573 Btu/hr\r\n",
      "16:01:53 , 168 W | 573 Btu/hr\r\n",
      "16:01:55 , 168 W | 573 Btu/hr\r\n",
      "16:01:57 , 168 W | 573 Btu/hr\r\n",
      "16:01:59 , 168 W | 573 Btu/hr\r\n",
      "16:02:01 , 168 W | 573 Btu/hr\r\n",
      "16:02:03 , 168 W | 573 Btu/hr\r\n",
      "16:02:05 , 168 W | 573 Btu/hr\r\n",
      "16:02:07 , 168 W | 573 Btu/hr\r\n",
      "16:02:09 , 168 W | 573 Btu/hr\r\n",
      "16:02:11 , 168 W | 573 Btu/hr\r\n",
      "16:02:14 , 168 W | 573 Btu/hr\r\n",
      "16:02:16 , 168 W | 573 Btu/hr\r\n",
      "16:02:18 , 168 W | 573 Btu/hr\r\n",
      "16:02:20 , 168 W | 573 Btu/hr\r\n",
      "16:02:22 , 168 W | 573 Btu/hr\r\n",
      "16:02:24 , 168 W | 573 Btu/hr\r\n",
      "16:02:26 , 168 W | 573 Btu/hr\r\n",
      "16:02:29 , 168 W | 573 Btu/hr\r\n",
      "16:02:31 , 168 W | 573 Btu/hr\r\n",
      "16:02:33 , 168 W | 573 Btu/hr\r\n",
      "16:02:35 , 168 W | 573 Btu/hr\r\n",
      "16:02:37 , 168 W | 573 Btu/hr\r\n",
      "16:02:39 , 168 W | 573 Btu/hr\r\n"
     ]
    }
   ],
   "source": [
    "! cat energy_Collector2018-04-02T16:00:35.log"
   ]
  },
  {
   "cell_type": "code",
   "execution_count": 21,
   "metadata": {},
   "outputs": [
    {
     "name": "stdout",
     "output_type": "stream",
     "text": [
      "root     20675  0.0  0.0  59052  4044 ?        S    16:00   0:00 sudo nohup stress --cpu 4 --timeout 300s\r\n",
      "root     20679  0.0  0.0   7884   992 ?        S    16:00   0:00 stress --cpu 4 --timeout 300s\r\n",
      "root     20680 99.9  0.0   7884    96 ?        R    16:00   3:59 stress --cpu 4 --timeout 300s\r\n",
      "root     20681 99.9  0.0   7884    96 ?        R    16:00   3:59 stress --cpu 4 --timeout 300s\r\n",
      "root     20682 99.9  0.0   7884    96 ?        R    16:00   3:59 stress --cpu 4 --timeout 300s\r\n",
      "root     20683 99.9  0.0   7884   308 ?        R    16:00   3:59 stress --cpu 4 --timeout 300s\r\n",
      "root     21688  0.0  0.0  59052  4124 ?        S    16:04   0:00 sudo nohup stress --cpu 4 --timeout 300s\r\n",
      "root     21692  0.0  0.0   7884  1052 ?        S    16:04   0:00 stress --cpu 4 --timeout 300s\r\n",
      "root     21693  101  0.0   7884    96 ?        R    16:04   0:07 stress --cpu 4 --timeout 300s\r\n",
      "root     21694  101  0.0   7884    96 ?        R    16:04   0:07 stress --cpu 4 --timeout 300s\r\n",
      "root     21695  101  0.0   7884    96 ?        R    16:04   0:07 stress --cpu 4 --timeout 300s\r\n",
      "root     21696  101  0.0   7884    96 ?        R    16:04   0:07 stress --cpu 4 --timeout 300s\r\n",
      "root     21754  0.0  0.0   4592   840 pts/3    Ss+  16:04   0:00 /bin/sh -c  ps aux | grep stress\r\n",
      "root     21756  0.0  0.0  14352  1000 pts/3    S+   16:04   0:00 grep stress\r\n"
     ]
    }
   ],
   "source": [
    "! ps aux | grep stress"
   ]
  },
  {
   "cell_type": "code",
   "execution_count": 13,
   "metadata": {},
   "outputs": [
    {
     "name": "stdout",
     "output_type": "stream",
     "text": [
      "Package\tCore\tCPU\tAvg_MHz\tBusy%\tBzy_MHz\tTSC_MHz\tCPU%c1\tCPU%c3\tCPU%c6\tCPU%c7\tPkg%pc2\tPkg%pc3\tPkg%pc6\tPkgWatt\tCorWatt\tRAMWatt\tPKG_%\tRAM_%\n",
      "-\t-\t-\t348\t12.63\t2754\t2002\t17.10\t0.00\t0.00\t70.26\t0.00\t0.00\t0.00\t80.53\t51.10\t4.91\t0.00\t0.00\n",
      "0\t0\t0\t25\t0.91\t2764\t2005\t99.09\t0.00\t0.00\t0.00\t0.00\t0.00\t0.00\t39.73\t25.07\t2.84\t0.00\t0.00\n",
      "0\t0\t16\t2800\t99.81\t2799\t2005\t0.19\n",
      "0\t1\t2\t1\t0.03\t2542\t2005\t0.04\t0.00\t0.00\t99.93\n",
      "0\t1\t18\t0\t0.02\t2483\t2005\t0.05\n",
      "0\t2\t4\t2\t0.07\t2633\t2005\t0.28\t0.01\t0.00\t99.65\n",
      "0\t2\t20\t4\t0.15\t2655\t2005\t0.20\n",
      "0\t3\t6\t1\t0.04\t2568\t2005\t0.17\t0.00\t0.00\t99.79\n",
      "0\t3\t22\t3\t0.11\t2647\t2005\t0.10\n",
      "0\t4\t8\t1\t0.03\t2522\t2005\t0.42\t0.02\t0.00\t99.54\n",
      "0\t4\t24\t8\t0.29\t2672\t2005\t0.15\n",
      "0\t5\t10\t1\t0.03\t2505\t2005\t0.14\t0.00\t0.00\t99.84\n",
      "0\t5\t26\t2\t0.07\t2589\t2005\t0.09\n",
      "0\t6\t12\t2798\t99.81\t2799\t2003\t0.19\t0.00\t0.00\t0.00\n",
      "0\t6\t28\t0\t0.02\t2467\t2003\t99.98\n",
      "0\t7\t14\t1\t0.03\t2514\t2003\t0.09\t0.00\t0.00\t99.88\n",
      "0\t7\t30\t1\t0.04\t2556\t2003\t0.07\n",
      "1\t0\t1\t17\t0.66\t2607\t2003\t29.48\t0.00\t0.00\t69.86\t0.00\t0.00\t0.00\t40.80\t26.02\t2.07\t0.00\t0.00\n",
      "1\t0\t17\t3\t0.10\t2509\t2003\t30.04\n",
      "1\t1\t3\t2708\t99.70\t2714\t2002\t0.30\t0.00\t0.00\t0.00\n",
      "1\t1\t19\t1\t0.04\t2489\t2002\t99.96\n",
      "1\t2\t5\t2706\t99.70\t2714\t2000\t0.30\t0.00\t0.00\t0.00\n",
      "1\t2\t21\t2\t0.06\t2639\t2000\t99.94\n",
      "1\t3\t7\t2\t0.07\t2494\t2000\t3.69\t0.00\t0.00\t96.24\n",
      "1\t3\t23\t1\t0.05\t2509\t2000\t3.71\n",
      "1\t4\t9\t15\t0.58\t2552\t2000\t8.45\t0.02\t0.00\t90.95\n",
      "1\t4\t25\t1\t0.06\t2495\t2000\t8.97\n",
      "1\t5\t11\t36\t1.40\t2582\t2000\t29.66\t0.02\t0.00\t68.93\n",
      "1\t5\t27\t2\t0.08\t2491\t2000\t30.98\n",
      "1\t6\t13\t2\t0.09\t2474\t2000\t0.16\t0.01\t0.00\t99.74\n",
      "1\t6\t29\t2\t0.07\t2505\t2000\t0.18\n",
      "1\t7\t15\t2\t0.06\t2469\t2000\t0.12\t0.00\t0.00\t99.82\n",
      "1\t7\t31\t1\t0.05\t2491\t2000\t0.13\n",
      "^C\n"
     ]
    }
   ],
   "source": [
    "!turbostat --quiet --hide sysfs,IRQ,SMI,CoreTmp,PkgTmp,GFX%rc6,GFXMHz,GFXWatt"
   ]
  },
  {
   "cell_type": "code",
   "execution_count": null,
   "metadata": {},
   "outputs": [],
   "source": []
  }
 ],
 "metadata": {
  "kernelspec": {
   "display_name": "Python 3",
   "language": "python",
   "name": "python3"
  },
  "language_info": {
   "codemirror_mode": {
    "name": "ipython",
    "version": 3
   },
   "file_extension": ".py",
   "mimetype": "text/x-python",
   "name": "python",
   "nbconvert_exporter": "python",
   "pygments_lexer": "ipython3",
   "version": "3.7.3"
  },
  "toc": {
   "base_numbering": 1,
   "nav_menu": {},
   "number_sections": true,
   "sideBar": true,
   "skip_h1_title": false,
   "title_cell": "Table of Contents",
   "title_sidebar": "Contents",
   "toc_cell": false,
   "toc_position": {},
   "toc_section_display": true,
   "toc_window_display": false
  }
 },
 "nbformat": 4,
 "nbformat_minor": 2
}
