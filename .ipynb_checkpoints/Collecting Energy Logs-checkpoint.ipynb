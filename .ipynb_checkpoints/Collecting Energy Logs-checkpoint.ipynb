{
 "cells": [
  {
   "cell_type": "markdown",
   "metadata": {},
   "source": [
    "---------------------------------------------------------------------------------------------------------------------------\n",
    "## **Jupyter Notebook**  [Rodrigo Rios, March 2018] \n",
    "\n",
    "### Collecting Data from Server Embedded Systems*\n",
    "\n",
    "This Notebook intents to show some Dell features and third party tools for Logging energy data from execututions\n",
    "\n",
    "- Dell OpenManage Server Tools\n",
    "    - Omreport\n",
    "    - Racadm\n",
    "    - ImpiTool \n",
    "\n",
    "- Third Party and Vendor Specific Tools \n",
    "    - turbostat \n",
    "    - powerstat\n",
    "\n",
    "- Watchdog Daemon for collecting Logs\n",
    "\n",
    "\n",
    "\n",
    "*Proposed code for second iterator on energy*\n",
    "    \n",
    "    \n",
    "```bash\n",
    " for((i==0 ; i<300    ; i++  )) \n",
    "    do sleep 1\n",
    "    racadm get system.Power.Realtime.Power >> logs_stress_cpu32_io16_vm_8_vmbytes_4096.txt_\n",
    "    done\n",
    "```\n",
    "\n",
    "**obs:** time should be considered, because the results for 1 sample collect took more than 1 second per iteration\n",
    "  \n",
    "**tools utilized: **\n",
    "\n",
    "Linux Stress package, Dell Open manage tools for linux Version 7\n",
    "\n",
    "**Logs file Initially Collected:**\n",
    "\n",
    "logs_stress_cpu32_io16_vm_8_vmbytes_4096.txt_  \n",
    "logs_stress_cpu32_io32_vm_32_vmbytes_8096.txt_\n",
    "\n",
    "---------------------------------------------------------------------------------------------------------------------------\n",
    "\n"
   ]
  },
  {
   "cell_type": "code",
   "execution_count": null,
   "metadata": {
    "scrolled": true
   },
   "outputs": [],
   "source": [
    "#read File \n",
    "\n",
    "#Declare Variables \n",
    "\n",
    "i=0\n",
    "i=int(i)\n",
    "x=list()\n",
    "y=list()\n",
    "\n",
    "#Set OS context for opening File\n",
    "with open('logs_stress_cpu32_io16_vm_8_vmbytes_4096.txt_','r') as f:\n",
    "        for line in f:\n",
    "            if line  and  line != \"\\n\":\n",
    "                line=(line.strip().split(\" \"))\n",
    "                #print(i,line[0])\n",
    "                x.append(i)\n",
    "                y.append(line[0])\n",
    "                print(x[i],y[i])\n",
    "                i=i+1          \n",
    "                                                                             "
   ]
  },
  {
   "cell_type": "code",
   "execution_count": null,
   "metadata": {
    "scrolled": true
   },
   "outputs": [],
   "source": [
    "##################################################################################################\n",
    "# Execução de Job Stress Test #32Cores #Consome 4GB de Ram #Perform 16IOs, 229 seconds execution\n",
    "##################################################################################################\n",
    "\n",
    "import matplotlib.pyplot                \n",
    "plt.title(\"logs_stress_cpu32_io16_vm_8_vmbytes_4096.txt_\")\n",
    "plt.plot(x,y)\n",
    "plt.ylabel(\"Watts\")\n",
    "plt.xlabel(\"Seconds\")\n",
    "plt.show()"
   ]
  },
  {
   "cell_type": "code",
   "execution_count": null,
   "metadata": {
    "scrolled": false
   },
   "outputs": [],
   "source": [
    "##############################################################################################\n",
    "# Execução de Job Stress Test #32Cores #Consome 8GB de Ram #Perform 32 IOs, 120s execution\n",
    "##############################################################################################\n",
    "\n",
    "i=0\n",
    "i=int(i)\n",
    "x=list()\n",
    "y=list()\n",
    "\n",
    "#Set OS context for opening File\n",
    "with open('logs_stress_cpu32_io32_vm_32_vmbytes_8096.txt_','r') as f:\n",
    "        for line in f:\n",
    "            if line  and  line != \"\\n\":\n",
    "                line=(line.strip().split(\" \"))\n",
    "                #print(i,line[0])\n",
    "                x.append(i)\n",
    "                y.append(line[0])\n",
    "                print(x[i],y[i])\n",
    "                i=i+1\n"
   ]
  },
  {
   "cell_type": "code",
   "execution_count": null,
   "metadata": {},
   "outputs": [],
   "source": [
    "##################################################################################################\n",
    "# Execução de Job Stress Test #32Cores #Consome 8GB de Ram #Perform 32 IOs,  120 seconds execution\n",
    "##################################################################################################\n",
    "\n",
    "import matplotlib.pyplot                \n",
    "plt.title(\"logs_stress_cpu32_io32_vm_32_vmbytes_8096.txt_\")\n",
    "plt.plot(x,y)\n",
    "plt.ylabel(\"Watts\")\n",
    "plt.xlabel(\"Seconds\")\n",
    "plt.show()"
   ]
  },
  {
   "cell_type": "markdown",
   "metadata": {},
   "source": [
    "**Calculate the Power Consumption based on Local Tax**\n",
    "- Scenario I - local energy provider Light 0,91 BRL per KWH\n",
    "- Scenario II - local energy provider Light 0,65 BRL per KWH\n",
    "- Calcule total comsumption based on convertion of KW/h to KW/s \n",
    "- **Check Values**\n"
   ]
  },
  {
   "cell_type": "code",
   "execution_count": null,
   "metadata": {},
   "outputs": [],
   "source": [
    "#Calculate the Power Consumption\n",
    "#Taxa Light 0,91 Reais per KWH\n",
    "#Calcula taxa de KW consumidos por segundo\n",
    "#Kwh Counter \n",
    "\n",
    "#Standard Brazilian Energy Cost(KW/Hour)\n",
    "energy_tax_perKWH=0.91\n",
    "energy_tax_perKWs=0.91/(60*60)\n",
    "\n",
    "\n",
    "#print(energy_tax_perKWs)\n",
    "                             \n",
    "energy_convertion_seconds_to_hours=1/(60*60)\n",
    "energy_convertion_minutes_to_hours=1/60\n",
    "#30 Days\n",
    "#24 Hours\n",
    "#60 Minutes\n",
    "#60 Seconds\n",
    "\n",
    "#Execution_Time= 24*60*60 #Seconds\n",
    "kwh_counter=0\n",
    "\n",
    "                            \n",
    "for i in range(75):   #Seconds in a Month \n",
    "    kwh_counter=kwh_counter + ((int(y[i])/1000)*energy_tax_perKWs)\n",
    "print(\"Total Cost of Execution \" ,kwh_counter ,\",00 BRL\")\n",
    "\n",
    " \n",
    "    \n",
    "    \n",
    "    \n",
    "    \n",
    "    \n",
    "    \n",
    "    \n"
   ]
  },
  {
   "cell_type": "code",
   "execution_count": null,
   "metadata": {},
   "outputs": [],
   "source": [
    "#Check Calculation - Custo de Execução de um processo() que utiliza 266W durante 75Segundos \n",
    "print(\"R$\", 0.266*0.0208333333*0.91, \"BRL\")"
   ]
  },
  {
   "cell_type": "markdown",
   "metadata": {},
   "source": [
    "**Plot Energy Data(second)**\n",
    "\n",
    "- Scenario I - local energy provider Light 0,91 BRL per KWH\n",
    "- Scenario II - local energy provider Light 0,65 BRL per KWH"
   ]
  },
  {
   "cell_type": "code",
   "execution_count": null,
   "metadata": {},
   "outputs": [],
   "source": [
    "#time=list(range(0,3600))\n",
    "y=[0.266*time*0.91 for time in list(range(0,3600))]\n",
    "y2=[0.266*time*0.65 for time in list(range(0,3600))]\n",
    "plt.title(\"Extrapolating energy for a 3600s (1 Hour) Scenario\")\n",
    "plt.ylabel(\"cost of Energy\")\n",
    "plt.xlabel(\"Seconds\")\n",
    "plt.plot(time,y)\n",
    "plt.plot(time,y2)\n",
    "#plt.plot(t,0.266*t*0.91)\n",
    "plt.show()"
   ]
  },
  {
   "cell_type": "markdown",
   "metadata": {},
   "source": [
    "---------------------------------------------------------\n",
    "- Dell OpenManage Server Tools\n",
    "    - Omreport\n",
    "    - Racadm\n",
    "    - ImpiTool \n",
    "\n",
    "*This commands should be run on a Linux machine with Dell Open Manage Tools installed"
   ]
  },
  {
   "cell_type": "markdown",
   "metadata": {},
   "source": [
    "**OmReport **\n",
    "\n",
    "Quick overview of omreport commands. Omreport will  report realtime data comprised of several categories:\n",
    "\n",
    "**Quick Example:**\n",
    "- Energy and Temperature\n",
    "- NIC \n",
    "- System Events\n"
   ]
  },
  {
   "cell_type": "code",
   "execution_count": null,
   "metadata": {},
   "outputs": [],
   "source": [
    "#Getting Energy data with omreport \n",
    "!omreport chassis pwrmonitoring | grep Reading"
   ]
  },
  {
   "cell_type": "markdown",
   "metadata": {},
   "source": [
    "Reading           : 98 W\n",
    "Reading                 : 3792.6 kWh\n",
    "Peak Reading           : 456 W\n",
    "Peak Reading           : 3.8 A"
   ]
  },
  {
   "cell_type": "code",
   "execution_count": null,
   "metadata": {},
   "outputs": [],
   "source": [
    "#Getting Temperature data with omreport  \n",
    "!omreport chassis temps | greo Reading"
   ]
  },
  {
   "cell_type": "markdown",
   "metadata": {},
   "source": [
    "Reading                   : 21.0 C    #INLET\n",
    "Reading                   : 30.0 C    #OUTLET\n",
    "Reading                   : 45.0 C    #CPU1\n",
    "Reading                   : 38.0 C    #CPU2"
   ]
  },
  {
   "cell_type": "code",
   "execution_count": null,
   "metadata": {},
   "outputs": [],
   "source": [
    "#Getting Data from Nic Cards (ALL) with omreport\n",
    "!omreport chassis nics"
   ]
  },
  {
   "cell_type": "code",
   "execution_count": null,
   "metadata": {},
   "outputs": [],
   "source": [
    "# Getting Data from NIC card (0) with omreport \n",
    "!omreport chassis nics index=0 "
   ]
  },
  {
   "cell_type": "code",
   "execution_count": null,
   "metadata": {},
   "outputs": [],
   "source": [
    "# Getting System Events with omreport \n",
    "!omreport system events"
   ]
  },
  {
   "cell_type": "markdown",
   "metadata": {},
   "source": [
    "**Racadm **\n",
    "\n",
    "Quick overview of racadm commands\n",
    "\n",
    "**Quick Example:**\n",
    "- Energy \n",
    "- Sensor info\n",
    "- NIC \n",
    "- Raclogs\n"
   ]
  },
  {
   "cell_type": "code",
   "execution_count": null,
   "metadata": {},
   "outputs": [],
   "source": [
    "# Getting Energy with racadm\n",
    "!racadm get system.power.Realtime.Power"
   ]
  },
  {
   "cell_type": "markdown",
   "metadata": {},
   "source": [
    "98 W | 334 Btu/hr"
   ]
  },
  {
   "cell_type": "code",
   "execution_count": null,
   "metadata": {},
   "outputs": [],
   "source": [
    "# Getting System Sensor info with racadm\n",
    "!racadm getsensorinfo "
   ]
  },
  {
   "cell_type": "markdown",
   "metadata": {},
   "source": [
    "root@node01:~# racadm getsensorinfo\n",
    "\n",
    "Sensor Type : POWER\n",
    "<Sensor Name>                   <Status>                 <Type>\n",
    "PS1 Status                      Present                  AC\n",
    "\n",
    "Sensor Type : TEMPERATURE\n",
    "<Sensor Name>                   <Status>    <Reading>   <lc>        <uc>\n",
    "System Board Inlet Temp         Ok          21 C                -7 C        47 C\n",
    "System Board Exhaust Temp       Ok          30 C                3 C         75 C\n",
    "CPU1 Temp                       Ok          46 C                3 C         90 C\n",
    "CPU2 Temp                       Ok          38 C                3 C         90 C\n",
    "\n",
    "Sensor Type : FAN\n",
    "<Sensor Name>                   <Status>    <Reading>   <lc>        <uc>\n",
    "System Board Fan1 RPM           Ok          2520 RPM            720 RPM     NA\n",
    "System Board Fan2 RPM           Ok          2520 RPM            720 RPM     NA\n",
    "System Board Fan3 RPM           Ok          2520 RPM            720 RPM     NA\n",
    "System Board Fan4 RPM           Ok          3240 RPM            720 RPM     NA\n",
    "System Board Fan5 RPM           Ok          3600 RPM            720 RPM     NA\n",
    "System Board Fan6 RPM           Ok          3720 RPM            720 RPM     NA\n",
    "\n",
    "Sensor Type : VOLTAGE\n",
    "<Sensor Name>                   <Status>    <Reading>   <lc>        <uc>\n",
    "CPU1 VCORE PG                   Ok          Good                NA          NA\n",
    "CPU2 VCORE PG                   Ok          Good                NA          NA\n",
    "System Board 3.3V PG            Ok          Good                NA          NA\n",
    "System Board 5V PG              Ok          Good                NA          NA\n",
    "CPU2 PLL PG                     Ok          Good                NA          NA\n",
    "CPU1 PLL PG                     Ok          Good                NA          NA\n",
    "System Board 1.1V PG            Ok          Good                NA          NA\n",
    "CPU1 M23 VDDQ PG                Ok          Good                NA          NA\n",
    "CPU1 M23 VTT PG                 Ok          Good                NA          NA\n",
    "System Board FETDRV PG          Ok          Good                NA          NA\n",
    "CPU2 VSA PG                     Ok          Good                NA          NA\n",
    "CPU1 VSA PG                     Ok          Good                NA          NA\n",
    "CPU2 M01 VDDQ PG                Ok          Good                NA          NA\n",
    "CPU1 M01 VDDQ PG                Ok          Good                NA          NA\n",
    "CPU2 M23 VTT PG                 Ok          Good                NA          NA\n",
    "CPU2 M01 VTT PG                 Ok          Good                NA          NA\n",
    "System Board NDC PG             Ok          Good                NA          NA\n",
    "CPU2 VTT PG                     Ok          Good                NA          NA\n",
    "CPU1 VTT PG                     Ok          Good                NA          NA\n",
    "CPU2 M23 VDDQ PG                Ok          Good                NA          NA\n",
    "System Board 1.5V PG            Ok          Good                NA          NA\n",
    "System Board PS2 PG Fail        Ok          Good                NA          NA\n",
    "System Board PS1 PG Fail        Ok          Good                NA          NA\n",
    "System Board BP1 5V PG          Ok          Good                NA          NA\n",
    "CPU1 M01 VTT PG                 Ok          Good                NA          NA\n",
    "PS1 Voltage 1                   Ok          220 V               NA          NA\n",
    "\n",
    "Sensor Type : CURRENT\n",
    "<Sensor Name>                   <Status>    <Reading>   <lc>        <uc>\n",
    "PS1 Current 1                   Ok          0.4 Amps            NA          NA\n",
    "System Board Pwr Consumption    Ok          98 Watts            NA          980 Watts\n",
    "\n",
    "Sensor Type : PROCESSOR\n",
    "<Sensor Name>                   <Status>    <State>             <lc>        <uc>\n",
    "CPU1 Status                     Ok          Presence Detected   NA          NA\n",
    "CPU2 Status                     Ok          Presence Detected   NA          NA\n",
    "\n",
    "Sensor Type : MEMORY\n",
    "<Sensor Name>                   <Status>    <State>             <lc>        <uc>\n",
    "DIMM A1                         Ok          Presence Detected   NA          NA\n",
    "DIMM A2                         Ok          Presence Detected   NA          NA\n",
    "DIMM A3                         N/A         Absent              NA          NA\n",
    "DIMM A4                         N/A         Absent              NA          NA\n",
    "DIMM A5                         N/A         Absent              NA          NA\n",
    "DIMM A6                         N/A         Absent              NA          NA\n",
    "DIMM A7                         N/A         Absent              NA          NA\n",
    "DIMM A8                         N/A         Absent              NA          NA\n",
    "DIMM A9                         N/A         Absent              NA          NA\n",
    "DIMM A10                        N/A         Absent              NA          NA\n",
    "DIMM A11                        N/A         Absent              NA          NA\n",
    "DIMM A12                        N/A         Absent              NA          NA\n",
    "DIMM B1                         Ok          Presence Detected   NA          NA\n",
    "DIMM B2                         Ok          Presence Detected   NA          NA\n",
    "DIMM B3                         N/A         Absent              NA          NA\n",
    "DIMM B4                         N/A         Absent              NA          NA\n",
    "DIMM B5                         N/A         Absent              NA          NA\n",
    "DIMM B6                         N/A         Absent              NA          NA\n",
    "DIMM B7                         N/A         Absent              NA          NA\n",
    "DIMM B8                         N/A         Absent              NA          NA\n",
    "DIMM B9                         N/A         Absent              NA          NA\n",
    "DIMM B10                        N/A         Absent              NA          NA\n",
    "DIMM B11                        N/A         Absent              NA          NA\n",
    "DIMM B12                        N/A         Absent              NA          NA\n"
   ]
  },
  {
   "cell_type": "code",
   "execution_count": null,
   "metadata": {},
   "outputs": [],
   "source": [
    "#Get Nic Config with racadm\n",
    "!racadm get nic.nicconfig.0"
   ]
  },
  {
   "cell_type": "markdown",
   "metadata": {},
   "source": [
    "Key=NIC.Integrated.1-1-1#NICConfig\n",
    "LegacyBootProto=PXE\n",
    "LnkSpeed=AutoNeg\n",
    "WakeOnLan=Disabled\n"
   ]
  },
  {
   "cell_type": "code",
   "execution_count": null,
   "metadata": {},
   "outputs": [],
   "source": [
    "#Get System Inventory with racadm\n",
    "!racadm swinventory"
   ]
  },
  {
   "cell_type": "code",
   "execution_count": null,
   "metadata": {
    "ExecuteTime": {
     "end_time": "2019-11-19T13:36:32.280526Z",
     "start_time": "2019-11-19T13:36:32.003039Z"
    },
    "run_control": {
     "marked": true
    }
   },
   "outputs": [],
   "source": [
    "#Get Raclog with racadm\n",
    "!racadm getraclog"
   ]
  },
  {
   "cell_type": "markdown",
   "metadata": {},
   "source": [
    "SeqNumber       = 1970\n",
    "Message ID      = USR0032\n",
    "Category        = Audit\n",
    "AgentID         = RACLOG\n",
    "Severity        = Information\n",
    "Timestamp       = 2018-03-16 11:26:40\n",
    "Message         = The session for root from x.x.x.x using GUI is logged off.\n",
    "Message Arg   1 = root\n",
    "Message Arg   2 = x.x.x.x\n",
    "Message Arg   3 = GUI\n"
   ]
  },
  {
   "cell_type": "markdown",
   "metadata": {},
   "source": [
    "**impitool**\n",
    "\n",
    "Quick overview of impitool standard.\n",
    "\n",
    "**Quick Example:**\n",
    "\n",
    "- Energy\n",
    "- Sensor info\n"
   ]
  },
  {
   "cell_type": "code",
   "execution_count": null,
   "metadata": {},
   "outputs": [],
   "source": [
    "#Get Realtime energy Data with Ipmitool \n",
    "!ipmitool sensor | grep pwr"
   ]
  },
  {
   "cell_type": "code",
   "execution_count": null,
   "metadata": {},
   "outputs": [],
   "source": [
    "#Get Realtime Sensor Info\n",
    "!ipmitool sensor "
   ]
  },
  {
   "cell_type": "markdown",
   "metadata": {},
   "source": [
    "**Fined Grained Monitor Tools**\n",
    "\n",
    "Quick Sample how to Collect Energy Data from CPU1, CPU2 and Memories Modules \n",
    "\n"
   ]
  },
  {
   "cell_type": "code",
   "execution_count": null,
   "metadata": {},
   "outputs": [],
   "source": [
    "! turbostat --quiet --hide sysfs,IRQ,SMI,CoreTmp,PkgTmp,GFX%rc6,GFXMHz,GFXWatt"
   ]
  },
  {
   "cell_type": "markdown",
   "metadata": {},
   "source": [
    "Package Core    CPU     Avg_MHz Busy%   Bzy_MHz TSC_MHz CPU%c1  CPU%c3  CPU%c6  CPU%c7  Pkg%pc2 Pkg%pc3 Pkg%pc6 PkgWatt CorWatt RAMWatt PKG_%   RAM_%\n",
    "-       -       -       1       0.06    1240    2000    0.58    0.00    0.00    99.36   12.24   0.00    83.08   13.31   1.59    4.31    0.00    0.00\n",
    "0       0       0       0       0.04    1203    2000    0.05    0.00    0.00    99.91   16.42   0.00    83.05   6.62    0.78    2.57    0.00    0.00\n",
    "0       0       16      0       0.03    1206    2000    0.06\n",
    "0       1       2       0       0.02    1205    2000    0.05    0.00    0.00    99.92\n",
    "0       1       18      0       0.03    1205    2000    0.04\n",
    "0       2       4       2       0.13    1201    2000    0.14    0.00    0.00    99.73\n",
    "0       2       20      0       0.02    1204    2000    0.25\n",
    "0       3       6       0       0.03    1203    2000    0.04    0.00    0.00    99.93\n",
    "0       3       22      0       0.02    1204    2000    0.04\n",
    "0       4       8       0       0.02    1205    2000    0.04    0.00    0.00    99.94\n",
    "0       4       24      0       0.03    1204    2000    0.03\n",
    "0       5       10      0       0.02    1205    2000    0.03    0.00    0.00    99.95\n",
    "0       5       26      0       0.02    1205    2000    0.03\n",
    "0       6       12      0       0.03    1204    2000    0.03    0.00    0.00    99.94\n",
    "0       6       28      0       0.02    1204    2000    0.03\n",
    "0       7       14      0       0.04    1209    2000    0.06    0.00    0.00    99.90\n",
    "0       7       30      0       0.02    1207    2000    0.07\n",
    "1       0       1       5       0.41    1333    2000    1.42    0.00    0.00    98.16   8.05    0.00    83.11   6.70    0.81    1.74    0.00    0.00\n",
    "1       0       17      1       0.07    1218    2000    1.76\n",
    "1       1       3       1       0.05    1227    2000    0.05    0.00    0.00    99.90\n"
   ]
  }
 ],
 "metadata": {
  "kernelspec": {
   "display_name": "Python 3",
   "language": "python",
   "name": "python3"
  },
  "language_info": {
   "codemirror_mode": {
    "name": "ipython",
    "version": 3
   },
   "file_extension": ".py",
   "mimetype": "text/x-python",
   "name": "python",
   "nbconvert_exporter": "python",
   "pygments_lexer": "ipython3",
   "version": "3.7.3"
  },
  "toc": {
   "base_numbering": 1,
   "nav_menu": {},
   "number_sections": true,
   "sideBar": true,
   "skip_h1_title": false,
   "title_cell": "Table of Contents",
   "title_sidebar": "Contents",
   "toc_cell": false,
   "toc_position": {},
   "toc_section_display": true,
   "toc_window_display": true
  }
 },
 "nbformat": 4,
 "nbformat_minor": 2
}
